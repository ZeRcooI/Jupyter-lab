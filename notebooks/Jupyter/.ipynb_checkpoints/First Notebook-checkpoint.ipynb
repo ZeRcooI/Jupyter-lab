{
 "cells": [
  {
   "cell_type": "markdown",
   "id": "d0e56e55-645f-4ccb-b446-2d68a76cada6",
   "metadata": {},
   "source": [
    "# First Notebook"
   ]
  },
  {
   "cell_type": "markdown",
   "id": "85f9b2d5-5c3f-4279-82c5-82b9e9bec0eb",
   "metadata": {},
   "source": [
    "## First Section"
   ]
  },
  {
   "cell_type": "markdown",
   "id": "786f2845-3b79-476b-aaa9-270fba535cbe",
   "metadata": {},
   "source": [
    "10 + 2"
   ]
  },
  {
   "cell_type": "code",
   "execution_count": 1,
   "id": "10549d0f-018e-49d9-82b3-3583ff5415c7",
   "metadata": {},
   "outputs": [
    {
     "data": {
      "text/plain": [
       "'Bogdan'"
      ]
     },
     "execution_count": 1,
     "metadata": {},
     "output_type": "execute_result"
    }
   ],
   "source": [
    "'Bogdan'"
   ]
  },
  {
   "cell_type": "markdown",
   "id": "06f721d3-ce1f-4235-bc40-8130238d413a",
   "metadata": {},
   "source": [
    "my_name = 'Bogdan'\n",
    "my_name"
   ]
  },
  {
   "cell_type": "markdown",
   "id": "46258736-9f2b-4b5b-ad8a-6375e71b82a0",
   "metadata": {},
   "source": [
    "## Second Section"
   ]
  },
  {
   "cell_type": "code",
   "execution_count": 2,
   "id": "4f59dad4-d00b-4887-87da-9e1a68d81af7",
   "metadata": {},
   "outputs": [
    {
     "data": {
      "text/plain": [
       "'My name is Bogdan'"
      ]
     },
     "execution_count": 2,
     "metadata": {},
     "output_type": "execute_result"
    }
   ],
   "source": [
    "my_name = 'Bogdan'\n",
    "f'My name is {my_name}'"
   ]
  },
  {
   "cell_type": "code",
   "execution_count": null,
   "id": "bc545819-141b-4e15-8688-e481ba885edd",
   "metadata": {},
   "outputs": [],
   "source": []
  },
  {
   "cell_type": "code",
   "execution_count": null,
   "id": "5acac4f1-f159-4388-86b6-cf1d7b862aad",
   "metadata": {},
   "outputs": [],
   "source": []
  }
 ],
 "metadata": {
  "kernelspec": {
   "display_name": "Python 3 (ipykernel)",
   "language": "python",
   "name": "python3"
  },
  "language_info": {
   "codemirror_mode": {
    "name": "ipython",
    "version": 3
   },
   "file_extension": ".py",
   "mimetype": "text/x-python",
   "name": "python",
   "nbconvert_exporter": "python",
   "pygments_lexer": "ipython3",
   "version": "3.11.9"
  }
 },
 "nbformat": 4,
 "nbformat_minor": 5
}
